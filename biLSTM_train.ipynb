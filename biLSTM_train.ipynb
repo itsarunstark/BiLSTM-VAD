{
 "cells": [
  {
   "cell_type": "code",
   "execution_count": 63,
   "id": "829dd481-a321-4ebe-98bc-e81ced9394e6",
   "metadata": {},
   "outputs": [],
   "source": [
    "# !pip install praat-textgrids"
   ]
  },
  {
   "cell_type": "code",
   "execution_count": 1,
   "id": "d90528ca-6f31-4ac0-b8ab-2af623afe091",
   "metadata": {},
   "outputs": [],
   "source": [
    "import textgrids\n",
    "import os\n",
    "import sys\n",
    "import librosa\n",
    "from pathlib import Path\n",
    "import scipy.io.wavfile as wav\n",
    "from scipy.signal import stft, resample\n",
    "from python_speech_features import mfcc\n",
    "from tqdm.notebook import tqdm\n",
    "import pyaudio\n",
    "import numpy as np"
   ]
  },
  {
   "cell_type": "code",
   "execution_count": 2,
   "id": "34dddd54-9d25-4734-9a22-64b39f30350a",
   "metadata": {},
   "outputs": [
    {
     "name": "stdout",
     "output_type": "stream",
     "text": [
      "Data/Annotation\n",
      "Data/Audio\n"
     ]
    }
   ],
   "source": [
    "label_path = Path('./Data/Annotation')\n",
    "data_path = Path('./Data/Audio')\n",
    "print(label_path)\n",
    "print(data_path)"
   ]
  },
  {
   "cell_type": "code",
   "execution_count": 3,
   "id": "679dfaf7-883c-4ede-9d1d-a083ffaf1b7a",
   "metadata": {},
   "outputs": [],
   "source": [
    "dataset = {}\n",
    "for root,dirs,files in os.walk(label_path):\n",
    "    for file in files:\n",
    "        label = os.path.join(root, file)\n",
    "        data =os.path.join(root.replace(\"Annotation\", \"Audio\"), file.replace(\".TextGrid\", \".wav\"))\n",
    "        dataset[label] = data"
   ]
  },
  {
   "cell_type": "code",
   "execution_count": 4,
   "id": "748ef5e1-5498-4f52-9c22-42ff47d6702c",
   "metadata": {},
   "outputs": [],
   "source": [
    "def resample_frames(signal, original_rate, desired_rate):\n",
    "    if original_rate == desired_rate: return signal\n",
    "    num_samples = int(signal.shape[0]*float(desired_rate)/original_rate)\n",
    "    return resample(signal, num_samples)"
   ]
  },
  {
   "cell_type": "code",
   "execution_count": 5,
   "id": "78269ae4-d604-455e-97c4-46eabca5c142",
   "metadata": {},
   "outputs": [],
   "source": [
    "frame_rate = 16_0000"
   ]
  },
  {
   "cell_type": "code",
   "execution_count": 6,
   "id": "80a95f35-755a-4146-b3bd-f77b153c6d6e",
   "metadata": {},
   "outputs": [
    {
     "data": {
      "application/vnd.jupyter.widget-view+json": {
       "model_id": "3e8c2b55b51d43a18085f8a78763e3cb",
       "version_major": 2,
       "version_minor": 0
      },
      "text/plain": [
       "  0%|          | 0/719 [00:00<?, ?it/s]"
      ]
     },
     "metadata": {},
     "output_type": "display_data"
    }
   ],
   "source": [
    "mfcc_data = []\n",
    "mfcc_labels = []\n",
    "def distribute_data(label_file, data_file):\n",
    "    grid = textgrids.TextGrid(label_file)\n",
    "    zones = grid['silences']\n",
    "    x, fs = wav.read(data_file)\n",
    "    signal = resample_frames(fs, x, frame_rate)\n",
    "    for zone in zones:\n",
    "        start = int(frame_rate*zone.xmin)\n",
    "        end = int(frame_rate*zone.xmax)\n",
    "        short_signal = signal[start:end]\n",
    "        c_mfcc = mfcc(short_signal, frame_rate, nfilt=26, numcep=13, winlen=512/frame_rate, winstep=256/frame_rate)\n",
    "        mfcc_data.extend(c_mfcc)\n",
    "        mfcc_labels.extend(len(c_mfcc)*[int(zone.text)])\n",
    "        \n",
    "    \n",
    "\n",
    "\n",
    "for label, data in tqdm(dataset.items(), total=len(dataset)):\n",
    "    # print(label)\n",
    "    distribute_data(label , data)\n",
    "    # break"
   ]
  },
  {
   "cell_type": "code",
   "execution_count": 9,
   "id": "fadcb0f7-b2ae-4097-b024-7611415a792e",
   "metadata": {},
   "outputs": [],
   "source": [
    "max_length = max(mfcc_data_individual.shape[0] for mfcc_data_individual in mfcc_data)\n",
    "max_length\n",
    "array = np.save('tight_mfcc_data.npy', mfcc_data)"
   ]
  },
  {
   "cell_type": "code",
   "execution_count": 9,
   "id": "fc71394d-ef41-412f-84b5-5d44b80c34a6",
   "metadata": {},
   "outputs": [
    {
     "data": {
      "text/plain": [
       "((0, 3680), (0, 0))"
      ]
     },
     "execution_count": 9,
     "metadata": {},
     "output_type": "execute_result"
    }
   ],
   "source": [
    "def pad_mfcc_seq(mfcc_data, max_length):\n",
    "    padded_array = []\n",
    "    for item in tqdm(mfcc_data, total=len(mfcc_data)):\n",
    "        num_frames, num_features = item.shape\n",
    "        if (num_frames == 0):\n",
    "            padded_feature = np.zeros((max_length, num_features, 1), dtype=item.dtype)\n",
    "        else:\n",
    "            # print(((0, max_length - num_frames), (0, 0)))\n",
    "            padded_feature = np.array([np.pad(item, ((0, max_length - num_frames), (0, 0)), mode='constant')])\n",
    "        padded_array.append(padded_feature)\n",
    "    return padded_array\n",
    "((0, 3680), (0, 0))"
   ]
  },
  {
   "cell_type": "code",
   "execution_count": 13,
   "id": "fd1fe5c1-8085-45ac-bfe2-24a1c8d8fa97",
   "metadata": {},
   "outputs": [],
   "source": [
    "np.save('tight_labels.npy', mfcc_labels)"
   ]
  },
  {
   "cell_type": "code",
   "execution_count": 15,
   "id": "8fffaae2-9d6f-41e3-9731-0998a89b30d2",
   "metadata": {},
   "outputs": [],
   "source": [
    "padded_array = np.array(padded_features)\n",
    "np.save(\"padded_dataset.npy\", padded_array)"
   ]
  },
  {
   "cell_type": "code",
   "execution_count": 22,
   "id": "fabe32a0-7417-4506-99a8-c7343a62a3a6",
   "metadata": {},
   "outputs": [],
   "source": [
    "label_array = np.expand_dims(mfcc_labels, (1,))\n",
    "np.save(\"labels.npy\", label_array)"
   ]
  },
  {
   "cell_type": "markdown",
   "id": "720ef27d-d324-46b2-bab0-3029cd561d5e",
   "metadata": {},
   "source": [
    "### Training BiLSTM for VAD"
   ]
  },
  {
   "cell_type": "code",
   "execution_count": 2,
   "id": "bbda21ce-befd-4dfd-add3-70a8cbd35515",
   "metadata": {},
   "outputs": [
    {
     "name": "stderr",
     "output_type": "stream",
     "text": [
      "2024-10-23 19:44:14.596291: I external/local_tsl/tsl/cuda/cudart_stub.cc:32] Could not find cuda drivers on your machine, GPU will not be used.\n",
      "2024-10-23 19:44:15.543296: I external/local_tsl/tsl/cuda/cudart_stub.cc:32] Could not find cuda drivers on your machine, GPU will not be used.\n",
      "2024-10-23 19:44:18.948315: I tensorflow/core/platform/cpu_feature_guard.cc:210] This TensorFlow binary is optimized to use available CPU instructions in performance-critical operations.\n",
      "To enable the following instructions: AVX2 FMA, in other operations, rebuild TensorFlow with the appropriate compiler flags.\n",
      "2024-10-23 19:44:22.877674: W tensorflow/compiler/tf2tensorrt/utils/py_utils.cc:38] TF-TRT Warning: Could not find TensorRT\n"
     ]
    }
   ],
   "source": [
    "from tensorflow.keras.layers import Bidirectional, Dropout, Dense, LSTM, BatchNormalization\n",
    "from tensorflow.keras.models import Sequential\n",
    "from tensorflow.keras.optimizers import Adam\n",
    "from sklearn.preprocessing import MinMaxScaler, StandardScaler\n",
    "from sklearn.model_selection import train_test_split\n",
    "from tensorflow.keras.models import load_model\n",
    "import numpy as np"
   ]
  },
  {
   "cell_type": "code",
   "execution_count": 10,
   "id": "7f7b4e41-4b51-439b-a813-72eb44fffc40",
   "metadata": {},
   "outputs": [],
   "source": [
    "def build_biLSTM_VAD(in_shape):\n",
    "    model = Sequential()\n",
    "    model.add(Bidirectional(LSTM(128, return_sequences=True), input_shape=in_shape))\n",
    "    model.add(BatchNormalization())\n",
    "    \n",
    "    model.add(Dropout(0.1))\n",
    "    model.add(Bidirectional(LSTM(64, return_sequences=True)))\n",
    "    model.add(BatchNormalization())\n",
    "    model.add(Dropout(0.2))\n",
    "   \n",
    "    model.add(Dense(32, activation='relu')) \n",
    "    model.add(Dropout(0.1))\n",
    "\n",
    "    model.add(Bidirectional(LSTM(32)))\n",
    "    model.add(BatchNormalization())\n",
    "    model.add(Dropout(0.2))\n",
    "    \n",
    "    model.add(Dense(32, activation='relu'))\n",
    "    model.add(Dropout(0.1))\n",
    "    model.add(Dense(8, activation='relu'))\n",
    "    model.add(Dropout(0.1))\n",
    "    model.add(BatchNormalization())\n",
    "    model.add(Dense(1, activation='sigmoid'))\n",
    "    \n",
    "    model.compile(optimizer=Adam(learning_rate=0.0005), metrics=['accuracy'], loss='binary_crossentropy')\n",
    "    return model"
   ]
  },
  {
   "cell_type": "code",
   "execution_count": 4,
   "id": "8d1244b4-5c43-4289-a9a3-ba6dbe019b69",
   "metadata": {},
   "outputs": [],
   "source": [
    "# data = np.load('dataset.npy')"
   ]
  },
  {
   "cell_type": "code",
   "execution_count": 14,
   "id": "341ac355-e72b-49c5-a4da-ab6d43c36e5a",
   "metadata": {},
   "outputs": [],
   "source": [
    "flatten_data = np.load('tight_mfcc_data.npy')"
   ]
  },
  {
   "cell_type": "code",
   "execution_count": 17,
   "id": "37e4200c-ee70-438c-b20a-8684767314a7",
   "metadata": {},
   "outputs": [],
   "source": [
    "flatten_data.shape\n",
    "scaler = MinMaxScaler()\n",
    "normalized_data = scaler.fit_transform(flatten_data)"
   ]
  },
  {
   "cell_type": "code",
   "execution_count": 23,
   "id": "62e0b0a4-7647-40d4-9807-5aad7e3cbd81",
   "metadata": {},
   "outputs": [
    {
     "data": {
      "text/plain": [
       "(1989517, 13)"
      ]
     },
     "execution_count": 23,
     "metadata": {},
     "output_type": "execute_result"
    }
   ],
   "source": [
    "normalized_data.shape\n",
    "# flatten_data.shape"
   ]
  },
  {
   "cell_type": "code",
   "execution_count": 24,
   "id": "5f60710d-c6d9-435c-8038-df582171f57a",
   "metadata": {},
   "outputs": [],
   "source": [
    "final_dataset = normalized_data.reshape(flatten_data.shape)\n",
    "np.save('normalized_tight_mfcc_data.npy', final_dataset)"
   ]
  },
  {
   "cell_type": "code",
   "execution_count": 5,
   "id": "246702da-6005-4495-aa17-e1fabfa4d722",
   "metadata": {},
   "outputs": [],
   "source": [
    "X_train = np.load('normalized_tight_mfcc_data.npy')\n",
    "y_train = np.load(\"tight_labels.npy\")\n",
    "# X_train = np.expand_dims(X_train, 1)\n",
    "# np.save('normalized_tight_mfcc_data.npy', X_train)"
   ]
  },
  {
   "cell_type": "code",
   "execution_count": 10,
   "id": "086760e1-509e-49ff-bb99-311a25b8b7f4",
   "metadata": {},
   "outputs": [],
   "source": [
    "X_train = X_train[:100000]\n",
    "y_train = y_train[:100000]"
   ]
  },
  {
   "cell_type": "code",
   "execution_count": 11,
   "id": "ca3b90ce-34dd-49a0-911f-dda1ecd96c89",
   "metadata": {},
   "outputs": [],
   "source": [
    "model = build_biLSTM_VAD(X_train[0].shape)"
   ]
  },
  {
   "cell_type": "code",
   "execution_count": null,
   "id": "44243bdc-dc60-4abd-9606-89932ef97b07",
   "metadata": {},
   "outputs": [],
   "source": []
  },
  {
   "cell_type": "code",
   "execution_count": 12,
   "id": "184e4816-507f-4104-bc8d-a0110e24e0ec",
   "metadata": {},
   "outputs": [
    {
     "data": {
      "text/plain": [
       "(1989517,)"
      ]
     },
     "execution_count": 12,
     "metadata": {},
     "output_type": "execute_result"
    }
   ],
   "source": [
    "y_train.shape"
   ]
  },
  {
   "cell_type": "code",
   "execution_count": 13,
   "id": "ad078d81-11b9-49bf-afec-33efee4cc981",
   "metadata": {},
   "outputs": [
    {
     "data": {
      "text/html": [
       "<pre style=\"white-space:pre;overflow-x:auto;line-height:normal;font-family:Menlo,'DejaVu Sans Mono',consolas,'Courier New',monospace\"><span style=\"font-weight: bold\">Model: \"sequential_1\"</span>\n",
       "</pre>\n"
      ],
      "text/plain": [
       "\u001b[1mModel: \"sequential_1\"\u001b[0m\n"
      ]
     },
     "metadata": {},
     "output_type": "display_data"
    },
    {
     "data": {
      "text/html": [
       "<pre style=\"white-space:pre;overflow-x:auto;line-height:normal;font-family:Menlo,'DejaVu Sans Mono',consolas,'Courier New',monospace\">┏━━━━━━━━━━━━━━━━━━━━━━━━━━━━━━━━━┳━━━━━━━━━━━━━━━━━━━━━━━━┳━━━━━━━━━━━━━━━┓\n",
       "┃<span style=\"font-weight: bold\"> Layer (type)                    </span>┃<span style=\"font-weight: bold\"> Output Shape           </span>┃<span style=\"font-weight: bold\">       Param # </span>┃\n",
       "┡━━━━━━━━━━━━━━━━━━━━━━━━━━━━━━━━━╇━━━━━━━━━━━━━━━━━━━━━━━━╇━━━━━━━━━━━━━━━┩\n",
       "│ bidirectional_2 (<span style=\"color: #0087ff; text-decoration-color: #0087ff\">Bidirectional</span>) │ (<span style=\"color: #00d7ff; text-decoration-color: #00d7ff\">None</span>, <span style=\"color: #00af00; text-decoration-color: #00af00\">1</span>, <span style=\"color: #00af00; text-decoration-color: #00af00\">256</span>)         │       <span style=\"color: #00af00; text-decoration-color: #00af00\">145,408</span> │\n",
       "├─────────────────────────────────┼────────────────────────┼───────────────┤\n",
       "│ batch_normalization_3           │ (<span style=\"color: #00d7ff; text-decoration-color: #00d7ff\">None</span>, <span style=\"color: #00af00; text-decoration-color: #00af00\">1</span>, <span style=\"color: #00af00; text-decoration-color: #00af00\">256</span>)         │         <span style=\"color: #00af00; text-decoration-color: #00af00\">1,024</span> │\n",
       "│ (<span style=\"color: #0087ff; text-decoration-color: #0087ff\">BatchNormalization</span>)            │                        │               │\n",
       "├─────────────────────────────────┼────────────────────────┼───────────────┤\n",
       "│ dropout_5 (<span style=\"color: #0087ff; text-decoration-color: #0087ff\">Dropout</span>)             │ (<span style=\"color: #00d7ff; text-decoration-color: #00d7ff\">None</span>, <span style=\"color: #00af00; text-decoration-color: #00af00\">1</span>, <span style=\"color: #00af00; text-decoration-color: #00af00\">256</span>)         │             <span style=\"color: #00af00; text-decoration-color: #00af00\">0</span> │\n",
       "├─────────────────────────────────┼────────────────────────┼───────────────┤\n",
       "│ bidirectional_3 (<span style=\"color: #0087ff; text-decoration-color: #0087ff\">Bidirectional</span>) │ (<span style=\"color: #00d7ff; text-decoration-color: #00d7ff\">None</span>, <span style=\"color: #00af00; text-decoration-color: #00af00\">1</span>, <span style=\"color: #00af00; text-decoration-color: #00af00\">128</span>)         │       <span style=\"color: #00af00; text-decoration-color: #00af00\">164,352</span> │\n",
       "├─────────────────────────────────┼────────────────────────┼───────────────┤\n",
       "│ batch_normalization_4           │ (<span style=\"color: #00d7ff; text-decoration-color: #00d7ff\">None</span>, <span style=\"color: #00af00; text-decoration-color: #00af00\">1</span>, <span style=\"color: #00af00; text-decoration-color: #00af00\">128</span>)         │           <span style=\"color: #00af00; text-decoration-color: #00af00\">512</span> │\n",
       "│ (<span style=\"color: #0087ff; text-decoration-color: #0087ff\">BatchNormalization</span>)            │                        │               │\n",
       "├─────────────────────────────────┼────────────────────────┼───────────────┤\n",
       "│ dropout_6 (<span style=\"color: #0087ff; text-decoration-color: #0087ff\">Dropout</span>)             │ (<span style=\"color: #00d7ff; text-decoration-color: #00d7ff\">None</span>, <span style=\"color: #00af00; text-decoration-color: #00af00\">1</span>, <span style=\"color: #00af00; text-decoration-color: #00af00\">128</span>)         │             <span style=\"color: #00af00; text-decoration-color: #00af00\">0</span> │\n",
       "├─────────────────────────────────┼────────────────────────┼───────────────┤\n",
       "│ dense_4 (<span style=\"color: #0087ff; text-decoration-color: #0087ff\">Dense</span>)                 │ (<span style=\"color: #00d7ff; text-decoration-color: #00d7ff\">None</span>, <span style=\"color: #00af00; text-decoration-color: #00af00\">1</span>, <span style=\"color: #00af00; text-decoration-color: #00af00\">32</span>)          │         <span style=\"color: #00af00; text-decoration-color: #00af00\">4,128</span> │\n",
       "├─────────────────────────────────┼────────────────────────┼───────────────┤\n",
       "│ dropout_7 (<span style=\"color: #0087ff; text-decoration-color: #0087ff\">Dropout</span>)             │ (<span style=\"color: #00d7ff; text-decoration-color: #00d7ff\">None</span>, <span style=\"color: #00af00; text-decoration-color: #00af00\">1</span>, <span style=\"color: #00af00; text-decoration-color: #00af00\">32</span>)          │             <span style=\"color: #00af00; text-decoration-color: #00af00\">0</span> │\n",
       "├─────────────────────────────────┼────────────────────────┼───────────────┤\n",
       "│ bidirectional_4 (<span style=\"color: #0087ff; text-decoration-color: #0087ff\">Bidirectional</span>) │ (<span style=\"color: #00d7ff; text-decoration-color: #00d7ff\">None</span>, <span style=\"color: #00af00; text-decoration-color: #00af00\">64</span>)             │        <span style=\"color: #00af00; text-decoration-color: #00af00\">16,640</span> │\n",
       "├─────────────────────────────────┼────────────────────────┼───────────────┤\n",
       "│ batch_normalization_5           │ (<span style=\"color: #00d7ff; text-decoration-color: #00d7ff\">None</span>, <span style=\"color: #00af00; text-decoration-color: #00af00\">64</span>)             │           <span style=\"color: #00af00; text-decoration-color: #00af00\">256</span> │\n",
       "│ (<span style=\"color: #0087ff; text-decoration-color: #0087ff\">BatchNormalization</span>)            │                        │               │\n",
       "├─────────────────────────────────┼────────────────────────┼───────────────┤\n",
       "│ dropout_8 (<span style=\"color: #0087ff; text-decoration-color: #0087ff\">Dropout</span>)             │ (<span style=\"color: #00d7ff; text-decoration-color: #00d7ff\">None</span>, <span style=\"color: #00af00; text-decoration-color: #00af00\">64</span>)             │             <span style=\"color: #00af00; text-decoration-color: #00af00\">0</span> │\n",
       "├─────────────────────────────────┼────────────────────────┼───────────────┤\n",
       "│ dense_5 (<span style=\"color: #0087ff; text-decoration-color: #0087ff\">Dense</span>)                 │ (<span style=\"color: #00d7ff; text-decoration-color: #00d7ff\">None</span>, <span style=\"color: #00af00; text-decoration-color: #00af00\">32</span>)             │         <span style=\"color: #00af00; text-decoration-color: #00af00\">2,080</span> │\n",
       "├─────────────────────────────────┼────────────────────────┼───────────────┤\n",
       "│ dropout_9 (<span style=\"color: #0087ff; text-decoration-color: #0087ff\">Dropout</span>)             │ (<span style=\"color: #00d7ff; text-decoration-color: #00d7ff\">None</span>, <span style=\"color: #00af00; text-decoration-color: #00af00\">32</span>)             │             <span style=\"color: #00af00; text-decoration-color: #00af00\">0</span> │\n",
       "├─────────────────────────────────┼────────────────────────┼───────────────┤\n",
       "│ dense_6 (<span style=\"color: #0087ff; text-decoration-color: #0087ff\">Dense</span>)                 │ (<span style=\"color: #00d7ff; text-decoration-color: #00d7ff\">None</span>, <span style=\"color: #00af00; text-decoration-color: #00af00\">8</span>)              │           <span style=\"color: #00af00; text-decoration-color: #00af00\">264</span> │\n",
       "├─────────────────────────────────┼────────────────────────┼───────────────┤\n",
       "│ dropout_10 (<span style=\"color: #0087ff; text-decoration-color: #0087ff\">Dropout</span>)            │ (<span style=\"color: #00d7ff; text-decoration-color: #00d7ff\">None</span>, <span style=\"color: #00af00; text-decoration-color: #00af00\">8</span>)              │             <span style=\"color: #00af00; text-decoration-color: #00af00\">0</span> │\n",
       "├─────────────────────────────────┼────────────────────────┼───────────────┤\n",
       "│ batch_normalization_6           │ (<span style=\"color: #00d7ff; text-decoration-color: #00d7ff\">None</span>, <span style=\"color: #00af00; text-decoration-color: #00af00\">8</span>)              │            <span style=\"color: #00af00; text-decoration-color: #00af00\">32</span> │\n",
       "│ (<span style=\"color: #0087ff; text-decoration-color: #0087ff\">BatchNormalization</span>)            │                        │               │\n",
       "├─────────────────────────────────┼────────────────────────┼───────────────┤\n",
       "│ dense_7 (<span style=\"color: #0087ff; text-decoration-color: #0087ff\">Dense</span>)                 │ (<span style=\"color: #00d7ff; text-decoration-color: #00d7ff\">None</span>, <span style=\"color: #00af00; text-decoration-color: #00af00\">1</span>)              │             <span style=\"color: #00af00; text-decoration-color: #00af00\">9</span> │\n",
       "└─────────────────────────────────┴────────────────────────┴───────────────┘\n",
       "</pre>\n"
      ],
      "text/plain": [
       "┏━━━━━━━━━━━━━━━━━━━━━━━━━━━━━━━━━┳━━━━━━━━━━━━━━━━━━━━━━━━┳━━━━━━━━━━━━━━━┓\n",
       "┃\u001b[1m \u001b[0m\u001b[1mLayer (type)                   \u001b[0m\u001b[1m \u001b[0m┃\u001b[1m \u001b[0m\u001b[1mOutput Shape          \u001b[0m\u001b[1m \u001b[0m┃\u001b[1m \u001b[0m\u001b[1m      Param #\u001b[0m\u001b[1m \u001b[0m┃\n",
       "┡━━━━━━━━━━━━━━━━━━━━━━━━━━━━━━━━━╇━━━━━━━━━━━━━━━━━━━━━━━━╇━━━━━━━━━━━━━━━┩\n",
       "│ bidirectional_2 (\u001b[38;5;33mBidirectional\u001b[0m) │ (\u001b[38;5;45mNone\u001b[0m, \u001b[38;5;34m1\u001b[0m, \u001b[38;5;34m256\u001b[0m)         │       \u001b[38;5;34m145,408\u001b[0m │\n",
       "├─────────────────────────────────┼────────────────────────┼───────────────┤\n",
       "│ batch_normalization_3           │ (\u001b[38;5;45mNone\u001b[0m, \u001b[38;5;34m1\u001b[0m, \u001b[38;5;34m256\u001b[0m)         │         \u001b[38;5;34m1,024\u001b[0m │\n",
       "│ (\u001b[38;5;33mBatchNormalization\u001b[0m)            │                        │               │\n",
       "├─────────────────────────────────┼────────────────────────┼───────────────┤\n",
       "│ dropout_5 (\u001b[38;5;33mDropout\u001b[0m)             │ (\u001b[38;5;45mNone\u001b[0m, \u001b[38;5;34m1\u001b[0m, \u001b[38;5;34m256\u001b[0m)         │             \u001b[38;5;34m0\u001b[0m │\n",
       "├─────────────────────────────────┼────────────────────────┼───────────────┤\n",
       "│ bidirectional_3 (\u001b[38;5;33mBidirectional\u001b[0m) │ (\u001b[38;5;45mNone\u001b[0m, \u001b[38;5;34m1\u001b[0m, \u001b[38;5;34m128\u001b[0m)         │       \u001b[38;5;34m164,352\u001b[0m │\n",
       "├─────────────────────────────────┼────────────────────────┼───────────────┤\n",
       "│ batch_normalization_4           │ (\u001b[38;5;45mNone\u001b[0m, \u001b[38;5;34m1\u001b[0m, \u001b[38;5;34m128\u001b[0m)         │           \u001b[38;5;34m512\u001b[0m │\n",
       "│ (\u001b[38;5;33mBatchNormalization\u001b[0m)            │                        │               │\n",
       "├─────────────────────────────────┼────────────────────────┼───────────────┤\n",
       "│ dropout_6 (\u001b[38;5;33mDropout\u001b[0m)             │ (\u001b[38;5;45mNone\u001b[0m, \u001b[38;5;34m1\u001b[0m, \u001b[38;5;34m128\u001b[0m)         │             \u001b[38;5;34m0\u001b[0m │\n",
       "├─────────────────────────────────┼────────────────────────┼───────────────┤\n",
       "│ dense_4 (\u001b[38;5;33mDense\u001b[0m)                 │ (\u001b[38;5;45mNone\u001b[0m, \u001b[38;5;34m1\u001b[0m, \u001b[38;5;34m32\u001b[0m)          │         \u001b[38;5;34m4,128\u001b[0m │\n",
       "├─────────────────────────────────┼────────────────────────┼───────────────┤\n",
       "│ dropout_7 (\u001b[38;5;33mDropout\u001b[0m)             │ (\u001b[38;5;45mNone\u001b[0m, \u001b[38;5;34m1\u001b[0m, \u001b[38;5;34m32\u001b[0m)          │             \u001b[38;5;34m0\u001b[0m │\n",
       "├─────────────────────────────────┼────────────────────────┼───────────────┤\n",
       "│ bidirectional_4 (\u001b[38;5;33mBidirectional\u001b[0m) │ (\u001b[38;5;45mNone\u001b[0m, \u001b[38;5;34m64\u001b[0m)             │        \u001b[38;5;34m16,640\u001b[0m │\n",
       "├─────────────────────────────────┼────────────────────────┼───────────────┤\n",
       "│ batch_normalization_5           │ (\u001b[38;5;45mNone\u001b[0m, \u001b[38;5;34m64\u001b[0m)             │           \u001b[38;5;34m256\u001b[0m │\n",
       "│ (\u001b[38;5;33mBatchNormalization\u001b[0m)            │                        │               │\n",
       "├─────────────────────────────────┼────────────────────────┼───────────────┤\n",
       "│ dropout_8 (\u001b[38;5;33mDropout\u001b[0m)             │ (\u001b[38;5;45mNone\u001b[0m, \u001b[38;5;34m64\u001b[0m)             │             \u001b[38;5;34m0\u001b[0m │\n",
       "├─────────────────────────────────┼────────────────────────┼───────────────┤\n",
       "│ dense_5 (\u001b[38;5;33mDense\u001b[0m)                 │ (\u001b[38;5;45mNone\u001b[0m, \u001b[38;5;34m32\u001b[0m)             │         \u001b[38;5;34m2,080\u001b[0m │\n",
       "├─────────────────────────────────┼────────────────────────┼───────────────┤\n",
       "│ dropout_9 (\u001b[38;5;33mDropout\u001b[0m)             │ (\u001b[38;5;45mNone\u001b[0m, \u001b[38;5;34m32\u001b[0m)             │             \u001b[38;5;34m0\u001b[0m │\n",
       "├─────────────────────────────────┼────────────────────────┼───────────────┤\n",
       "│ dense_6 (\u001b[38;5;33mDense\u001b[0m)                 │ (\u001b[38;5;45mNone\u001b[0m, \u001b[38;5;34m8\u001b[0m)              │           \u001b[38;5;34m264\u001b[0m │\n",
       "├─────────────────────────────────┼────────────────────────┼───────────────┤\n",
       "│ dropout_10 (\u001b[38;5;33mDropout\u001b[0m)            │ (\u001b[38;5;45mNone\u001b[0m, \u001b[38;5;34m8\u001b[0m)              │             \u001b[38;5;34m0\u001b[0m │\n",
       "├─────────────────────────────────┼────────────────────────┼───────────────┤\n",
       "│ batch_normalization_6           │ (\u001b[38;5;45mNone\u001b[0m, \u001b[38;5;34m8\u001b[0m)              │            \u001b[38;5;34m32\u001b[0m │\n",
       "│ (\u001b[38;5;33mBatchNormalization\u001b[0m)            │                        │               │\n",
       "├─────────────────────────────────┼────────────────────────┼───────────────┤\n",
       "│ dense_7 (\u001b[38;5;33mDense\u001b[0m)                 │ (\u001b[38;5;45mNone\u001b[0m, \u001b[38;5;34m1\u001b[0m)              │             \u001b[38;5;34m9\u001b[0m │\n",
       "└─────────────────────────────────┴────────────────────────┴───────────────┘\n"
      ]
     },
     "metadata": {},
     "output_type": "display_data"
    },
    {
     "data": {
      "text/html": [
       "<pre style=\"white-space:pre;overflow-x:auto;line-height:normal;font-family:Menlo,'DejaVu Sans Mono',consolas,'Courier New',monospace\"><span style=\"font-weight: bold\"> Total params: </span><span style=\"color: #00af00; text-decoration-color: #00af00\">334,705</span> (1.28 MB)\n",
       "</pre>\n"
      ],
      "text/plain": [
       "\u001b[1m Total params: \u001b[0m\u001b[38;5;34m334,705\u001b[0m (1.28 MB)\n"
      ]
     },
     "metadata": {},
     "output_type": "display_data"
    },
    {
     "data": {
      "text/html": [
       "<pre style=\"white-space:pre;overflow-x:auto;line-height:normal;font-family:Menlo,'DejaVu Sans Mono',consolas,'Courier New',monospace\"><span style=\"font-weight: bold\"> Trainable params: </span><span style=\"color: #00af00; text-decoration-color: #00af00\">333,793</span> (1.27 MB)\n",
       "</pre>\n"
      ],
      "text/plain": [
       "\u001b[1m Trainable params: \u001b[0m\u001b[38;5;34m333,793\u001b[0m (1.27 MB)\n"
      ]
     },
     "metadata": {},
     "output_type": "display_data"
    },
    {
     "data": {
      "text/html": [
       "<pre style=\"white-space:pre;overflow-x:auto;line-height:normal;font-family:Menlo,'DejaVu Sans Mono',consolas,'Courier New',monospace\"><span style=\"font-weight: bold\"> Non-trainable params: </span><span style=\"color: #00af00; text-decoration-color: #00af00\">912</span> (3.56 KB)\n",
       "</pre>\n"
      ],
      "text/plain": [
       "\u001b[1m Non-trainable params: \u001b[0m\u001b[38;5;34m912\u001b[0m (3.56 KB)\n"
      ]
     },
     "metadata": {},
     "output_type": "display_data"
    }
   ],
   "source": [
    "model.summary()"
   ]
  },
  {
   "cell_type": "code",
   "execution_count": 14,
   "id": "edee5a69-41dc-48b0-8ad7-ed7e8bb082a2",
   "metadata": {},
   "outputs": [
    {
     "name": "stdout",
     "output_type": "stream",
     "text": [
      "Epoch 1/10\n",
      "\u001b[1m49738/49738\u001b[0m \u001b[32m━━━━━━━━━━━━━━━━━━━━\u001b[0m\u001b[37m\u001b[0m \u001b[1m452s\u001b[0m 9ms/step - accuracy: 0.8476 - loss: 0.3428 - val_accuracy: 0.8994 - val_loss: 0.2482\n",
      "Epoch 2/10\n",
      "\u001b[1m49738/49738\u001b[0m \u001b[32m━━━━━━━━━━━━━━━━━━━━\u001b[0m\u001b[37m\u001b[0m \u001b[1m438s\u001b[0m 9ms/step - accuracy: 0.8600 - loss: 0.3189 - val_accuracy: 0.9023 - val_loss: 0.2450\n",
      "Epoch 3/10\n",
      "\u001b[1m49738/49738\u001b[0m \u001b[32m━━━━━━━━━━━━━━━━━━━━\u001b[0m\u001b[37m\u001b[0m \u001b[1m422s\u001b[0m 8ms/step - accuracy: 0.8621 - loss: 0.3157 - val_accuracy: 0.8989 - val_loss: 0.2476\n",
      "Epoch 4/10\n",
      "\u001b[1m49738/49738\u001b[0m \u001b[32m━━━━━━━━━━━━━━━━━━━━\u001b[0m\u001b[37m\u001b[0m \u001b[1m3537s\u001b[0m 71ms/step - accuracy: 0.8630 - loss: 0.3124 - val_accuracy: 0.9011 - val_loss: 0.2479\n",
      "Epoch 5/10\n",
      "\u001b[1m49738/49738\u001b[0m \u001b[32m━━━━━━━━━━━━━━━━━━━━\u001b[0m\u001b[37m\u001b[0m \u001b[1m457s\u001b[0m 9ms/step - accuracy: 0.8638 - loss: 0.3113 - val_accuracy: 0.9043 - val_loss: 0.2387\n",
      "Epoch 6/10\n",
      "\u001b[1m49738/49738\u001b[0m \u001b[32m━━━━━━━━━━━━━━━━━━━━\u001b[0m\u001b[37m\u001b[0m \u001b[1m472s\u001b[0m 9ms/step - accuracy: 0.8643 - loss: 0.3104 - val_accuracy: 0.9024 - val_loss: 0.2412\n",
      "Epoch 7/10\n",
      "\u001b[1m49738/49738\u001b[0m \u001b[32m━━━━━━━━━━━━━━━━━━━━\u001b[0m\u001b[37m\u001b[0m \u001b[1m482s\u001b[0m 10ms/step - accuracy: 0.8649 - loss: 0.3090 - val_accuracy: 0.9026 - val_loss: 0.2413\n",
      "Epoch 8/10\n",
      "\u001b[1m49738/49738\u001b[0m \u001b[32m━━━━━━━━━━━━━━━━━━━━\u001b[0m\u001b[37m\u001b[0m \u001b[1m470s\u001b[0m 9ms/step - accuracy: 0.8648 - loss: 0.3088 - val_accuracy: 0.9031 - val_loss: 0.2446\n",
      "Epoch 9/10\n",
      "\u001b[1m49738/49738\u001b[0m \u001b[32m━━━━━━━━━━━━━━━━━━━━\u001b[0m\u001b[37m\u001b[0m \u001b[1m493s\u001b[0m 10ms/step - accuracy: 0.8654 - loss: 0.3080 - val_accuracy: 0.8995 - val_loss: 0.2493\n",
      "Epoch 10/10\n",
      "\u001b[1m49738/49738\u001b[0m \u001b[32m━━━━━━━━━━━━━━━━━━━━\u001b[0m\u001b[37m\u001b[0m \u001b[1m486s\u001b[0m 10ms/step - accuracy: 0.8651 - loss: 0.3087 - val_accuracy: 0.9020 - val_loss: 0.2453\n"
     ]
    }
   ],
   "source": [
    "epochs = 100\n",
    "history = model.fit(X_train, y_train, validation_split=0.2, batch_size=32, epochs=10)"
   ]
  },
  {
   "cell_type": "code",
   "execution_count": 22,
   "id": "e6ec7619-d2a5-4307-a73a-3e416186f822",
   "metadata": {},
   "outputs": [
    {
     "data": {
      "text/plain": [
       "([0.8531150221824646,\n",
       "  0.8605364561080933,\n",
       "  0.8622328639030457,\n",
       "  0.8629214763641357,\n",
       "  0.8639512062072754,\n",
       "  0.864428699016571,\n",
       "  0.8647460341453552,\n",
       "  0.8650180697441101,\n",
       "  0.8652737736701965,\n",
       "  0.8652844429016113],\n",
       " [0.8994104266166687,\n",
       "  0.9023382663726807,\n",
       "  0.8989052772521973,\n",
       "  0.9010841846466064,\n",
       "  0.9042909741401672,\n",
       "  0.9023659229278564,\n",
       "  0.9026147127151489,\n",
       "  0.9031147956848145,\n",
       "  0.8994581699371338,\n",
       "  0.9019612669944763])"
      ]
     },
     "execution_count": 22,
     "metadata": {},
     "output_type": "execute_result"
    }
   ],
   "source": [
    "history.history['accuracy'], history.history['val_accuracy']"
   ]
  },
  {
   "cell_type": "code",
   "execution_count": 15,
   "id": "32a3829b-f2aa-4e6f-a417-b5655851dd48",
   "metadata": {},
   "outputs": [
    {
     "name": "stderr",
     "output_type": "stream",
     "text": [
      "WARNING:absl:You are saving your model as an HDF5 file via `model.save()` or `keras.saving.save_model(model)`. This file format is considered legacy. We recommend using instead the native Keras format, e.g. `model.save('my_model.keras')` or `keras.saving.save_model(model, 'my_model.keras')`. \n"
     ]
    }
   ],
   "source": [
    "model.save('analysis_mono.h5')"
   ]
  },
  {
   "cell_type": "code",
   "execution_count": 3,
   "id": "44a064be-6211-45ad-9ef5-a212cfca127d",
   "metadata": {},
   "outputs": [
    {
     "name": "stderr",
     "output_type": "stream",
     "text": [
      "WARNING:absl:Compiled the loaded model, but the compiled metrics have yet to be built. `model.compile_metrics` will be empty until you train or evaluate the model.\n"
     ]
    }
   ],
   "source": [
    "model = load_model('analysis_mono.h5')"
   ]
  },
  {
   "cell_type": "code",
   "execution_count": 13,
   "id": "339a2285-cf4a-4671-b242-cd1395f3bc09",
   "metadata": {},
   "outputs": [
    {
     "data": {
      "text/plain": [
       "array([[False],\n",
       "       [ True],\n",
       "       [False],\n",
       "       [False],\n",
       "       [False],\n",
       "       [False],\n",
       "       [False],\n",
       "       [False],\n",
       "       [False],\n",
       "       [False],\n",
       "       [ True],\n",
       "       [False],\n",
       "       [False],\n",
       "       [False],\n",
       "       [False],\n",
       "       [False],\n",
       "       [False],\n",
       "       [False],\n",
       "       [False],\n",
       "       [False],\n",
       "       [False],\n",
       "       [False],\n",
       "       [False],\n",
       "       [False],\n",
       "       [False],\n",
       "       [False],\n",
       "       [False],\n",
       "       [False],\n",
       "       [False],\n",
       "       [False],\n",
       "       [False],\n",
       "       [False],\n",
       "       [False],\n",
       "       [False],\n",
       "       [False],\n",
       "       [False],\n",
       "       [False],\n",
       "       [False],\n",
       "       [False],\n",
       "       [False],\n",
       "       [False],\n",
       "       [False],\n",
       "       [ True],\n",
       "       [False],\n",
       "       [ True],\n",
       "       [False],\n",
       "       [ True],\n",
       "       [ True],\n",
       "       [False],\n",
       "       [False],\n",
       "       [False],\n",
       "       [False],\n",
       "       [False],\n",
       "       [False],\n",
       "       [ True],\n",
       "       [False],\n",
       "       [ True],\n",
       "       [False],\n",
       "       [False],\n",
       "       [False],\n",
       "       [False],\n",
       "       [False],\n",
       "       [False],\n",
       "       [False],\n",
       "       [False],\n",
       "       [False],\n",
       "       [False],\n",
       "       [False],\n",
       "       [False],\n",
       "       [ True],\n",
       "       [False],\n",
       "       [ True],\n",
       "       [False],\n",
       "       [False],\n",
       "       [False],\n",
       "       [False],\n",
       "       [ True],\n",
       "       [False],\n",
       "       [ True],\n",
       "       [False],\n",
       "       [False],\n",
       "       [False],\n",
       "       [False],\n",
       "       [False],\n",
       "       [ True],\n",
       "       [ True],\n",
       "       [False],\n",
       "       [False],\n",
       "       [False],\n",
       "       [False],\n",
       "       [False],\n",
       "       [False],\n",
       "       [False],\n",
       "       [False],\n",
       "       [False],\n",
       "       [False],\n",
       "       [False],\n",
       "       [False],\n",
       "       [False],\n",
       "       [False]])"
      ]
     },
     "execution_count": 13,
     "metadata": {},
     "output_type": "execute_result"
    }
   ],
   "source": [
    "model.predict_on_batch(X_train[y_train == 0][100:200]) > 0.5"
   ]
  },
  {
   "cell_type": "code",
   "execution_count": null,
   "id": "14f33f07-68f6-4863-8234-f197af110767",
   "metadata": {},
   "outputs": [],
   "source": []
  }
 ],
 "metadata": {
  "kernelspec": {
   "display_name": "Python 3 (ipykernel)",
   "language": "python",
   "name": "python3"
  },
  "language_info": {
   "codemirror_mode": {
    "name": "ipython",
    "version": 3
   },
   "file_extension": ".py",
   "mimetype": "text/x-python",
   "name": "python",
   "nbconvert_exporter": "python",
   "pygments_lexer": "ipython3",
   "version": "3.12.5"
  }
 },
 "nbformat": 4,
 "nbformat_minor": 5
}
